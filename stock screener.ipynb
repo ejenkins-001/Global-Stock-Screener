{
 "cells": [
  {
   "cell_type": "code",
   "execution_count": 1,
   "metadata": {},
   "outputs": [],
   "source": [
    "import sys\n",
    "import pandas as pd\n",
    "import numpy as np\n",
    "import matplotlib\n",
    "import matplotlib.pyplot as plt\n",
    "import investpy"
   ]
  },
  {
   "cell_type": "code",
   "execution_count": 2,
   "metadata": {},
   "outputs": [
    {
     "name": "stdout",
     "output_type": "stream",
     "text": [
      "Countries List\n",
      "['argentina', 'brazil', 'canada', 'chile', 'colombia', 'costa rica', 'jamaica', 'mexico', 'peru', 'united states', 'venezuela', 'austria', 'belgium', 'bosnia', 'bulgaria', 'croatia', 'cyprus', 'czech republic', 'denmark', 'finland', 'france', 'germany', 'greece', 'hungary', 'iceland', 'ireland', 'italy', 'luxembourg', 'malta', 'montenegro', 'netherlands', 'norway', 'poland', 'portugal', 'romania', 'russia', 'serbia', 'slovakia', 'slovenia', 'spain', 'sweden', 'switzerland', 'turkey', 'ukraine', 'united kingdom', 'australia', 'bangladesh', 'china', 'hong kong', 'india', 'indonesia', 'japan', 'kazakhstan', 'malaysia', 'mongolia', 'new zealand', 'pakistan', 'philippines', 'singapore', 'south korea', 'sri lanka', 'taiwan', 'thailand', 'vietnam', 'bahrain', 'egypt', 'iraq', 'israel', 'jordan', 'kuwait', 'lebanon', 'oman', 'palestine', 'qatar', 'saudi arabia', 'dubai', 'botswana', 'ivory coast', 'kenya', 'malawi', 'mauritius', 'morocco', 'namibia', 'nigeria', 'rwanda', 'south africa', 'tanzania', 'tunisia', 'uganda', 'zambia', 'zimbabwe']\n"
     ]
    }
   ],
   "source": [
    "def SMAIndicator(data, length):\n",
    "    sma = data.rolling(window=length).mean()\n",
    "    return sma\n",
    "\n",
    "def realtime_scan(country_name, direction, time_frame):\n",
    "    all_stocks = investpy.get_stocks_list(country=country_name)\n",
    "    \n",
    "    stock_type = 'equity'\n",
    "    fromdate = '01/01/2017'\n",
    "    todate = '01/01/2023'\n",
    "    \n",
    "    print('Realtime... Scanning {} stocks'.format(len(all_stocks)))\n",
    "    print('Please wait...')\n",
    "    try:\n",
    "        for eachstock in all_stocks:\n",
    "            stock_name = eachstock\n",
    "            df = investpy.get_stock_historical_data(stock=stock_name, country=country_name, from_date=fromdate,\n",
    "                                                    to_date=todate)\n",
    "\n",
    "            data = df['Close'].copy()\n",
    "            m_close = data.resample(time_frame, base=0).last()\n",
    "\n",
    "            sma18 = SMAIndicator(m_close, 18)\n",
    "\n",
    "            if direction == 'Long':\n",
    "                for i in range(len(sma18)-1, len(sma18)):\n",
    "                    if sma18[i]>sma18[i-1] and sma18[i-1]<sma18[i-2]:\n",
    "                        print('Ticker:', stock_name, '  Date:', sma18.index[i], '  SMA-Price:', round(sma18[i],2))\n",
    "                        \n",
    "            elif direction == 'Short':\n",
    "                for i in range(len(sma18)-1, len(sma18)):\n",
    "                    if sma18[i]<sma18[i-1] and sma18[i-1]>sma18[i-2]:\n",
    "                        print('Ticker:', stock_name, '  Date:', sma18.index[i], '  SMA-Price:', round(sma18[i],2))\n",
    "                        \n",
    "    except:\n",
    "        pass\n",
    "    \n",
    "    return\n",
    "\n",
    "countries = investpy.get_stock_countries()\n",
    "print('Countries List')\n",
    "print(countries)"
   ]
  },
  {
   "cell_type": "markdown",
   "metadata": {},
   "source": [
    "## STOCK SCREENER\n",
    "### Scan all stocks in realtime for change and print result"
   ]
  },
  {
   "cell_type": "code",
   "execution_count": 3,
   "metadata": {
    "scrolled": false
   },
   "outputs": [
    {
     "name": "stdout",
     "output_type": "stream",
     "text": [
      "Realtime... Scanning 3339 stocks\n",
      "Please wait...\n"
     ]
    },
    {
     "name": "stderr",
     "output_type": "stream",
     "text": [
      "C:\\Anaconda\\lib\\site-packages\\ipykernel_launcher.py:21: FutureWarning: 'base' in .resample() and in Grouper() is deprecated.\n",
      "The new arguments that you should use are 'offset' or 'origin'.\n",
      "\n",
      ">>> df.resample(freq=\"3s\", base=2)\n",
      "\n",
      "becomes:\n",
      "\n",
      ">>> df.resample(freq=\"3s\", offset=\"2s\")\n",
      "\n"
     ]
    },
    {
     "name": "stdout",
     "output_type": "stream",
     "text": [
      "Ticker: 601388   Date: 2020-09-30 00:00:00   SMA-Price: 1.96\n",
      "Ticker: 601777   Date: 2020-09-30 00:00:00   SMA-Price: 3.94\n",
      "Ticker: 600890   Date: 2020-09-30 00:00:00   SMA-Price: 6.68\n",
      "Ticker: 300145   Date: 2020-09-30 00:00:00   SMA-Price: 3.71\n",
      "Ticker: 300296   Date: 2020-09-30 00:00:00   SMA-Price: 7.08\n",
      "Ticker: 300459   Date: 2020-09-30 00:00:00   SMA-Price: 3.31\n",
      "Ticker: 603025   Date: 2020-09-30 00:00:00   SMA-Price: 8.94\n",
      "Ticker: 002889   Date: 2020-09-30 00:00:00   SMA-Price: 24.84\n",
      "Ticker: 300388   Date: 2020-09-30 00:00:00   SMA-Price: 10.11\n",
      "Ticker: 300044   Date: 2020-09-30 00:00:00   SMA-Price: 7.03\n",
      "Ticker: 002654   Date: 2020-09-30 00:00:00   SMA-Price: 4.35\n",
      "Ticker: 000418   Date: 2019-05-31 00:00:00   SMA-Price: 57.39\n",
      "Ticker: 300064   Date: 2020-09-30 00:00:00   SMA-Price: 3.48\n",
      "Ticker: 300100   Date: 2020-09-30 00:00:00   SMA-Price: 6.86\n",
      "Ticker: 300102   Date: 2020-09-30 00:00:00   SMA-Price: 5.44\n",
      "Ticker: 300135   Date: 2020-09-30 00:00:00   SMA-Price: 2.67\n",
      "Ticker: 300301   Date: 2020-09-30 00:00:00   SMA-Price: 3.79\n",
      "Ticker: 300434   Date: 2020-09-30 00:00:00   SMA-Price: 8.13\n",
      "Ticker: 300528   Date: 2020-09-30 00:00:00   SMA-Price: 7.17\n",
      "Ticker: 000792   Date: 2020-04-30 00:00:00   SMA-Price: 7.7\n",
      "Ticker: 300652   Date: 2020-09-30 00:00:00   SMA-Price: 20.28\n",
      "Ticker: 300317   Date: 2020-09-30 00:00:00   SMA-Price: 4.4\n",
      "Ticker: 300283   Date: 2020-09-30 00:00:00   SMA-Price: 4.67\n",
      "Ticker: 300569   Date: 2020-09-30 00:00:00   SMA-Price: 13.54\n",
      "Ticker: 300753   Date: 2020-09-30 00:00:00   SMA-Price: 31.59\n",
      "Ticker: 603612   Date: 2020-09-30 00:00:00   SMA-Price: 11.81\n",
      "Finished... done\n"
     ]
    }
   ],
   "source": [
    "realtime_scan('China', 'Long', '1M')\n",
    "print('Finished... done')"
   ]
  }
 ],
 "metadata": {
  "kernelspec": {
   "display_name": "Python 3",
   "language": "python",
   "name": "python3"
  },
  "language_info": {
   "codemirror_mode": {
    "name": "ipython",
    "version": 3
   },
   "file_extension": ".py",
   "mimetype": "text/x-python",
   "name": "python",
   "nbconvert_exporter": "python",
   "pygments_lexer": "ipython3",
   "version": "3.7.3"
  }
 },
 "nbformat": 4,
 "nbformat_minor": 2
}
